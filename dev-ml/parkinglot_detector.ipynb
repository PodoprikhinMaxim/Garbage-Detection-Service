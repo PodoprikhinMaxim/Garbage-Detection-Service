{
  "nbformat": 4,
  "nbformat_minor": 0,
  "metadata": {
    "accelerator": "GPU",
    "colab": {
      "name": "cv_project.ipynb",
      "provenance": [],
      "collapsed_sections": []
    },
    "kernelspec": {
      "display_name": "Python 3",
      "language": "python",
      "name": "python3"
    },
    "language_info": {
      "codemirror_mode": {
        "name": "ipython",
        "version": 3
      },
      "file_extension": ".py",
      "mimetype": "text/x-python",
      "name": "python",
      "nbconvert_exporter": "python",
      "pygments_lexer": "ipython3",
      "version": "3.7.7"
    }
  },
  "cells": [
    {
      "cell_type": "code",
      "metadata": {
        "id": "5aoWaGuvDAFu"
      },
      "source": [
        "import os\n",
        "import torch\n",
        "import torch.nn as nn\n",
        "import torch.optim as optim\n",
        "from torch.utils.data import Dataset, DataLoader\n",
        "import torchvision\n",
        "from torchvision import transforms\n",
        "from PIL import Image\n",
        "import matplotlib.pyplot as plt\n",
        "import numpy as np\n",
        "\n",
        "device = torch.device(\"cuda:0\" if torch.cuda.is_available() else \"cpu\")"
      ],
      "execution_count": null,
      "outputs": []
    },
    {
      "cell_type": "code",
      "metadata": {
        "id": "B7otGhksDEPw"
      },
      "source": [
        "def collate_fn(batch):\n",
        "  batch = list(filter(lambda x: x is not None, batch))\n",
        "  return torch.utils.data.dataloader.default_collate(batch)\n",
        "\n",
        "class selfData:\n",
        "  def __init__(self, img_path, target_path, transforms = None):\n",
        "    with open(target_path, 'r') as f:\n",
        "      lines = f.readlines()\n",
        "      self.img_list = [os.path.join(img_path, i.split()[0]) for i in lines]\n",
        "      self.label_list = [i.split()[1] for i in lines]\n",
        "      self.transforms = transforms\n",
        "\n",
        "  def __getitem__(self, index):\n",
        "    try:\n",
        "      img_path = self.img_list[index]\n",
        "      img = Image.open(img_path)\n",
        "      img = self.transforms(img)\n",
        "      label = self.label_list[index]\n",
        "    except:\n",
        "      return None\n",
        "    return img, label\n",
        "\n",
        "  def __len__(self):\n",
        "    return len(self.label_list)"
      ],
      "execution_count": null,
      "outputs": []
    },
    {
      "cell_type": "code",
      "metadata": {
        "id": "Tfrj2H_tzLZZ"
      },
      "source": [
        "class mAlexNet(nn.Module):\n",
        "  def __init__(self, num_classes = 2):\n",
        "    super(mAlexNet, self).__init__()\n",
        "    self.input_channel = 3\n",
        "    self.num_output = num_classes\n",
        "    self.layer1 = nn.Sequential(\n",
        "        nn.Conv2d(in_channels=self.input_channel, out_channels= 16, kernel_size= 11, stride= 4),\n",
        "        nn.ReLU(inplace=True),\n",
        "        nn.MaxPool2d(kernel_size=3, stride=2)\n",
        "    )\n",
        "    self.layer2 = nn.Sequential(\n",
        "        nn.Conv2d(in_channels= 16, out_channels= 20, kernel_size= 5, stride= 1),\n",
        "        nn.ReLU(inplace=True),\n",
        "        nn.MaxPool2d(kernel_size=3, stride=2)\n",
        "    )\n",
        "    self.layer3 = nn.Sequential(\n",
        "        nn.Conv2d(in_channels= 20, out_channels= 30, kernel_size= 3, stride= 1),\n",
        "        nn.ReLU(inplace=True),\n",
        "        nn.MaxPool2d(kernel_size=3, stride=2)\n",
        "    )\n",
        "    self.layer4 = nn.Sequential(\n",
        "        nn.Linear(30*3*3, out_features=48),\n",
        "        #nn.Linear(30, out_features=48),\n",
        "        nn.ReLU(inplace=True)\n",
        "    )\n",
        "    self.layer5 = nn.Sequential(\n",
        "        nn.Linear(in_features=48, out_features=2)\n",
        "    )\n",
        "\n",
        "  def forward(self, x):\n",
        "    x = self.layer3(self.layer2(self.layer1(x)))\n",
        "    x = x.view(x.size(0), -1)\n",
        "    x = self.layer5(self.layer4(x))\n",
        "    m = nn.Softmax(dim = 1)\n",
        "    x = m(x)\n",
        "    return x"
      ],
      "execution_count": null,
      "outputs": []
    },
    {
      "cell_type": "code",
      "metadata": {
        "id": "3uUeAM6yzfQV"
      },
      "source": [
        "def train(epoch, img_path, target_path, transforms, net, criterion):\n",
        "  train_dataset = selfData(img_path, target_path, transforms)\n",
        "  train_loader = DataLoader(train_dataset, batch_size = 64, shuffle = True, num_workers = 0,drop_last= False, collate_fn=collate_fn)\n",
        "  print('Training begins...')\n",
        "  for ep in range(epoch):  \n",
        "    learning_rate = 0.01\n",
        "    if ep >= 12:\n",
        "      learning_rate = 0.0025\n",
        "    elif ep >= 6:\n",
        "      learning_rate = 0.005\n",
        "    running_loss = 0.0\n",
        "    \n",
        "    for i, data in enumerate(train_loader,1):\n",
        "      inputs, labels = data\n",
        "      labels = list(map(int, labels))\n",
        "      labels = torch.Tensor(labels)\n",
        "      if torch.cuda.is_available():\n",
        "        device = torch.device(\"cuda:0\")\n",
        "        inputs = inputs.to(device)\n",
        "        labels = labels.to(device)\n",
        "      optimizer = optim.SGD(net.parameters(), lr=learning_rate, momentum=0.9)\n",
        "      optimizer.zero_grad()\n",
        "      outputs = net(inputs)\n",
        "      loss = criterion(outputs, labels.long())\n",
        "      loss.backward()\n",
        "      optimizer.step()\n",
        "      running_loss += loss.item()\n",
        "  print('Finished Training.')"
      ],
      "execution_count": null,
      "outputs": []
    },
    {
      "cell_type": "code",
      "metadata": {
        "id": "i9l8aOatFm84"
      },
      "source": [
        "def test(img_path, target_path, transforms, net):\n",
        "  print(\"\\nTesting starts now...\")\n",
        "  test_dataset = selfData(img_path, target_path, transforms)\n",
        "  test_loader = DataLoader(test_dataset, batch_size = 100, shuffle = True, num_workers = 0, collate_fn=collate_fn)\n",
        "  correct = 0\n",
        "  total = 0\n",
        "  item = 1\n",
        "  with torch.no_grad():\n",
        "    for data in test_loader:\n",
        "      images, labels = data\n",
        "      # print(\"Testing on batch {}\".format(item))\n",
        "      labels = list(map(int, labels))\n",
        "      labels = torch.Tensor(labels)\n",
        "      if torch.cuda.is_available():\n",
        "        device = torch.device(\"cuda:0\")\n",
        "        images = images.to(device)\n",
        "        labels = labels.to(device)\n",
        "      outputs = net(images)\n",
        "      _, predicted = torch.max(outputs.data, 1)\n",
        "      total += labels.size(0)\n",
        "      correct += (predicted == labels).sum().item()\n",
        "      item += 1\n",
        "      accuracy = (correct/total)\n",
        "  return accuracy"
      ],
      "execution_count": null,
      "outputs": []
    },
    {
      "cell_type": "code",
      "metadata": {
        "id": "AC2aj2n8sAD8"
      },
      "source": [
        "epochs = 18\n",
        "net = mAlexNet().to(device)\n",
        "criterion = nn.CrossEntropyLoss()\n",
        "device = torch.device(\"cuda:0\" if torch.cuda.is_available() else \"cpu\")\n",
        "\n",
        "tf = transforms.Compose([\n",
        "    transforms.Resize(256),\n",
        "    transforms.RandomResizedCrop(224),\n",
        "    transforms.ToTensor(),  # normalize to [0, 1]\n",
        "    transforms.Normalize((0.5, 0.5, 0.5), (0.5, 0.5, 0.5))\n",
        "]) "
      ],
      "execution_count": null,
      "outputs": []
    },
    {
      "cell_type": "code",
      "metadata": {
        "id": "VrqLt6XRIIL7",
        "scrolled": true,
        "outputId": "b25f1963-3f19-43da-f186-ec00383c6560"
      },
      "source": [
        "train_img = 'PKLot/PKLotSegmented'\n",
        "train_lab = ['splits/PKLot/UFPR04_train.txt','splits/PKLot/UFPR05_train.txt', 'splits/PKLot/PUC_train.txt']\n",
        "test_img = 'PKLot/PKLotSegmented'\n",
        "test_lab = ['splits/PKLot/UFPR04_test.txt','splits/PKLot/UFPR05_test.txt', 'splits/PKLot/PUC_test.txt']\n",
        "\n",
        "for train_set in train_lab:\n",
        "    train(epochs, train_img, train_set, tf, net, criterion)\n",
        "    PATH = './trained.pth'\n",
        "    torch.save(net.state_dict(), PATH)\n",
        "    net = mAlexNet().to(device)\n",
        "    net.load_state_dict(torch.load(PATH))\n",
        "    for test_set in test_lab:      \n",
        "        accuracy = test(test_img, test_set, tf, net)\n",
        "        print(\"Training on '{}' and testing on '{}': {:.3f}.\\n\".format(train_set.split('.')[0], test_set.split('.')[0], accuracy))\n",
        "print(\"Experiments ended.\")"
      ],
      "execution_count": null,
      "outputs": [
        {
          "output_type": "stream",
          "text": [
            "Training begins...\n",
            "Finished Training.\n",
            "\n",
            "Testing starts now...\n",
            "Training on 'splits/PKLot/UFPR04_train' and testing on 'splits/PKLot/UFPR04_test': 0.960.\n",
            "\n",
            "\n",
            "Testing starts now...\n",
            "Training on 'splits/PKLot/UFPR04_train' and testing on 'splits/PKLot/UFPR05_test': 0.799.\n",
            "\n",
            "\n",
            "Testing starts now...\n",
            "Training on 'splits/PKLot/UFPR04_train' and testing on 'splits/PKLot/PUC_test': 0.930.\n",
            "\n",
            "Training begins...\n",
            "Finished Training.\n",
            "\n",
            "Testing starts now...\n",
            "Training on 'splits/PKLot/UFPR05_train' and testing on 'splits/PKLot/UFPR04_test': 0.800.\n",
            "\n",
            "\n",
            "Testing starts now...\n",
            "Training on 'splits/PKLot/UFPR05_train' and testing on 'splits/PKLot/UFPR05_test': 0.976.\n",
            "\n",
            "\n",
            "Testing starts now...\n",
            "Training on 'splits/PKLot/UFPR05_train' and testing on 'splits/PKLot/PUC_test': 0.901.\n",
            "\n",
            "Training begins...\n",
            "Finished Training.\n",
            "\n",
            "Testing starts now...\n",
            "Training on 'splits/PKLot/PUC_train' and testing on 'splits/PKLot/UFPR04_test': 0.956.\n",
            "\n",
            "\n",
            "Testing starts now...\n",
            "Training on 'splits/PKLot/PUC_train' and testing on 'splits/PKLot/UFPR05_test': 0.949.\n",
            "\n",
            "\n",
            "Testing starts now...\n",
            "Training on 'splits/PKLot/PUC_train' and testing on 'splits/PKLot/PUC_test': 0.989.\n",
            "\n",
            "Experiments ended.\n"
          ],
          "name": "stdout"
        }
      ]
    },
    {
      "cell_type": "code",
      "metadata": {
        "id": "SmDGX8fEsAED",
        "outputId": "d27e627d-f89e-4bcf-f4ba-00b92998270a"
      },
      "source": [
        "train_img = 'CNRPark-Patches-150x150'\n",
        "train_lab = ['splits/CNRParkAB/odd.txt','splits/CNRParkAB/even.txt']\n",
        "test_img = 'CNRPark-Patches-150x150'\n",
        "test_lab = ['splits/CNRParkAB/even.txt','splits/CNRParkAB/odd.txt']\n",
        "\n",
        "for train_set, test_set in zip(train_lab, test_lab):\n",
        "    train(epochs, train_img, train_set, tf, net, criterion)\n",
        "    PATH = './trained.pth'\n",
        "    torch.save(net.state_dict(), PATH)\n",
        "    net = mAlexNet().to(device)\n",
        "    net.load_state_dict(torch.load(PATH))\n",
        "    accuracy = test(test_img, test_set, tf, net)\n",
        "    print(\"Training on '{}' and testing on '{}': {:.3f}.\\n\".format(train_set.split('.')[0], test_set.split('.')[0], accuracy))\n",
        "print(\"Experiments ended.\")"
      ],
      "execution_count": null,
      "outputs": [
        {
          "output_type": "stream",
          "text": [
            "Training begins...\n",
            "Finished Training.\n",
            "\n",
            "Testing starts now...\n",
            "Training on 'splits/CNRParkAB/odd' and testing on 'splits/CNRParkAB/even': 0.919.\n",
            "\n",
            "Training begins...\n",
            "Finished Training.\n",
            "\n",
            "Testing starts now...\n",
            "Training on 'splits/CNRParkAB/even' and testing on 'splits/CNRParkAB/odd': 0.924.\n",
            "\n",
            "Experiments ended.\n"
          ],
          "name": "stdout"
        }
      ]
    },
    {
      "cell_type": "code",
      "metadata": {
        "scrolled": true,
        "id": "qOIyJ0tcsAEG",
        "outputId": "79565a09-9bd6-48ec-fe0b-0d56c08ed40c"
      },
      "source": [
        "train_img = 'CNRPark-EXT/PATCHES'\n",
        "train_lab = ['splits/CNRPark-EXT/sunny.txt','splits/CNRPark-EXT/overcast.txt','splits/CNRPark-EXT/rainy.txt']\n",
        "test_lab = ['splits/CNRPark-EXT/sunny.txt','splits/CNRPark-EXT/overcast.txt','splits/CNRPark-EXT/rainy.txt','splits/PKLot/val.txt']\n",
        "\n",
        "for train_set in train_lab:\n",
        "    train(epochs, train_img, train_set, tf, net, criterion)\n",
        "    PATH = './trained.pth'\n",
        "    torch.save(net.state_dict(), PATH)\n",
        "    net = mAlexNet().to(device)\n",
        "    net.load_state_dict(torch.load(PATH))\n",
        "    for test_set in test_lab:\n",
        "        if test_set == train_set:\n",
        "            accuracy = 'none'\n",
        "            print(\"Skip to next test.\")\n",
        "        elif test_set == 'splits/PKLot/val.txt':\n",
        "            test_img = 'PKLot/PKLotSegmented'\n",
        "            accuracy = test(test_img, test_set, tf, net)\n",
        "            print(\"Training on '{}' and testing on '{}': {:.3f}.\\n\".format(train_set.split('.')[0], test_set.split('.')[0], accuracy))\n",
        "        else:\n",
        "            test_img = 'CNRPark-EXT/PATCHES/'\n",
        "            accuracy = test(test_img, test_set, tf, net)\n",
        "            print(\"Training on '{}' and testing on '{}': {:.3f}.\\n\".format(train_set.split('.')[0], test_set.split('.')[0], accuracy))\n",
        "print(\"Experiments ended.\")"
      ],
      "execution_count": null,
      "outputs": [
        {
          "output_type": "stream",
          "text": [
            "Training begins...\n",
            "Finished Training.\n",
            "Skip to next test.\n",
            "\n",
            "Testing starts now...\n",
            "Training on 'splits/CNRPark-EXT/sunny' and testing on 'splits/CNRPark-EXT/overcast': 0.946.\n",
            "\n",
            "\n",
            "Testing starts now...\n",
            "Training on 'splits/CNRPark-EXT/sunny' and testing on 'splits/CNRPark-EXT/rainy': 0.912.\n",
            "\n",
            "\n",
            "Testing starts now...\n",
            "Training on 'splits/CNRPark-EXT/sunny' and testing on 'splits/PKLot/val': 0.759.\n",
            "\n",
            "Training begins...\n",
            "Finished Training.\n",
            "\n",
            "Testing starts now...\n",
            "Training on 'splits/CNRPark-EXT/overcast' and testing on 'splits/CNRPark-EXT/sunny': 0.917.\n",
            "\n",
            "Skip to next test.\n",
            "\n",
            "Testing starts now...\n",
            "Training on 'splits/CNRPark-EXT/overcast' and testing on 'splits/CNRPark-EXT/rainy': 0.920.\n",
            "\n",
            "\n",
            "Testing starts now...\n",
            "Training on 'splits/CNRPark-EXT/overcast' and testing on 'splits/PKLot/val': 0.709.\n",
            "\n",
            "Training begins...\n",
            "Finished Training.\n",
            "\n",
            "Testing starts now...\n",
            "Training on 'splits/CNRPark-EXT/rainy' and testing on 'splits/CNRPark-EXT/sunny': 0.914.\n",
            "\n",
            "\n",
            "Testing starts now...\n",
            "Training on 'splits/CNRPark-EXT/rainy' and testing on 'splits/CNRPark-EXT/overcast': 0.959.\n",
            "\n",
            "Skip to next test.\n",
            "\n",
            "Testing starts now...\n",
            "Training on 'splits/CNRPark-EXT/rainy' and testing on 'splits/PKLot/val': 0.651.\n",
            "\n",
            "Experiments ended.\n"
          ],
          "name": "stdout"
        }
      ]
    }
  ]
}